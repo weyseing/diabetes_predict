{
  "cells": [
    {
      "cell_type": "markdown",
      "source": [
        "## Library"
      ],
      "metadata": {
        "nteract": {
          "transient": {
            "deleting": false
          }
        }
      }
    },
    {
      "cell_type": "code",
      "source": [
        "import os\n",
        "import pandas as pd\n",
        "from sklearn.model_selection import train_test_split\n",
        "from imblearn.over_sampling import SMOTE\n",
        "from sklearn.metrics import accuracy_score, confusion_matrix, classification_report, roc_auc_score\n",
        "from sklearn.metrics import ConfusionMatrixDisplay\n",
        "import matplotlib.pyplot as plt\n",
        "from sklearn.linear_model import LogisticRegression\n",
        "from sklearn.ensemble import RandomForestClassifier\n",
        "from sklearn.ensemble import GradientBoostingClassifier\n",
        "from sklearn.model_selection import GridSearchCV\n",
        "from xgboost import XGBClassifier"
      ],
      "outputs": [],
      "execution_count": 19,
      "metadata": {
        "gather": {
          "logged": 1733076684449
        }
      }
    },
    {
      "cell_type": "markdown",
      "source": [
        "## Dataset"
      ],
      "metadata": {
        "nteract": {
          "transient": {
            "deleting": false
          }
        }
      }
    },
    {
      "cell_type": "code",
      "source": [
        "df = pd.read_csv(os.getcwd() + \"/dataset/dataset_scaled.csv\")\n",
        "df.tail(3)"
      ],
      "outputs": [
        {
          "output_type": "execute_result",
          "execution_count": 2,
          "data": {
            "text/plain": "     Unnamed: 0  Pregnancies   Glucose  BloodPressure  SkinThickness  \\\n765         765     0.342981  0.003301       0.149641       0.154533   \n766         766    -0.844885  0.159787      -0.470732      -1.288212   \n767         767    -0.844885 -0.873019       0.046245       0.656358   \n\n      Insulin       BMI  DiabetesPedigreeFunction       Age  Outcome  \n765  0.279594 -0.735190                 -0.685193 -0.275760        0  \n766 -0.692891 -0.240205                 -0.371101  1.170732        1  \n767 -0.692891 -0.202129                 -0.473785 -0.871374        0  ",
            "text/html": "<div>\n<style scoped>\n    .dataframe tbody tr th:only-of-type {\n        vertical-align: middle;\n    }\n\n    .dataframe tbody tr th {\n        vertical-align: top;\n    }\n\n    .dataframe thead th {\n        text-align: right;\n    }\n</style>\n<table border=\"1\" class=\"dataframe\">\n  <thead>\n    <tr style=\"text-align: right;\">\n      <th></th>\n      <th>Unnamed: 0</th>\n      <th>Pregnancies</th>\n      <th>Glucose</th>\n      <th>BloodPressure</th>\n      <th>SkinThickness</th>\n      <th>Insulin</th>\n      <th>BMI</th>\n      <th>DiabetesPedigreeFunction</th>\n      <th>Age</th>\n      <th>Outcome</th>\n    </tr>\n  </thead>\n  <tbody>\n    <tr>\n      <th>765</th>\n      <td>765</td>\n      <td>0.342981</td>\n      <td>0.003301</td>\n      <td>0.149641</td>\n      <td>0.154533</td>\n      <td>0.279594</td>\n      <td>-0.735190</td>\n      <td>-0.685193</td>\n      <td>-0.275760</td>\n      <td>0</td>\n    </tr>\n    <tr>\n      <th>766</th>\n      <td>766</td>\n      <td>-0.844885</td>\n      <td>0.159787</td>\n      <td>-0.470732</td>\n      <td>-1.288212</td>\n      <td>-0.692891</td>\n      <td>-0.240205</td>\n      <td>-0.371101</td>\n      <td>1.170732</td>\n      <td>1</td>\n    </tr>\n    <tr>\n      <th>767</th>\n      <td>767</td>\n      <td>-0.844885</td>\n      <td>-0.873019</td>\n      <td>0.046245</td>\n      <td>0.656358</td>\n      <td>-0.692891</td>\n      <td>-0.202129</td>\n      <td>-0.473785</td>\n      <td>-0.871374</td>\n      <td>0</td>\n    </tr>\n  </tbody>\n</table>\n</div>"
          },
          "metadata": {}
        }
      ],
      "execution_count": 2,
      "metadata": {
        "jupyter": {
          "source_hidden": false,
          "outputs_hidden": false
        },
        "nteract": {
          "transient": {
            "deleting": false
          }
        },
        "gather": {
          "logged": 1733076328655
        }
      }
    },
    {
      "cell_type": "code",
      "source": [
        "X = df.drop(\"Outcome\", axis=1)\n",
        "y = df[\"Outcome\"]"
      ],
      "outputs": [],
      "execution_count": 3,
      "metadata": {
        "jupyter": {
          "source_hidden": false,
          "outputs_hidden": false
        },
        "nteract": {
          "transient": {
            "deleting": false
          }
        },
        "gather": {
          "logged": 1733076328811
        }
      }
    },
    {
      "cell_type": "markdown",
      "source": [
        "## Oversampling"
      ],
      "metadata": {
        "nteract": {
          "transient": {
            "deleting": false
          }
        }
      }
    },
    {
      "cell_type": "code",
      "source": [
        "smote = SMOTE(random_state=42)\n",
        "X, y = smote.fit_resample(X, y)"
      ],
      "outputs": [],
      "execution_count": 4,
      "metadata": {
        "jupyter": {
          "source_hidden": false,
          "outputs_hidden": false
        },
        "nteract": {
          "transient": {
            "deleting": false
          }
        },
        "gather": {
          "logged": 1733076328935
        }
      }
    },
    {
      "cell_type": "code",
      "source": [
        "y.value_counts()"
      ],
      "outputs": [
        {
          "output_type": "execute_result",
          "execution_count": 5,
          "data": {
            "text/plain": "Outcome\n1    500\n0    500\nName: count, dtype: int64"
          },
          "metadata": {}
        }
      ],
      "execution_count": 5,
      "metadata": {
        "jupyter": {
          "source_hidden": false,
          "outputs_hidden": false
        },
        "nteract": {
          "transient": {
            "deleting": false
          }
        },
        "gather": {
          "logged": 1733076329072
        }
      }
    },
    {
      "cell_type": "markdown",
      "source": [
        "## Tran-Test Split"
      ],
      "metadata": {
        "nteract": {
          "transient": {
            "deleting": false
          }
        }
      }
    },
    {
      "cell_type": "code",
      "source": [
        "X_train, X_test, y_train, y_test = train_test_split(X, y, stratify=y, test_size=0.3, random_state=42)"
      ],
      "outputs": [],
      "execution_count": 6,
      "metadata": {
        "jupyter": {
          "source_hidden": false,
          "outputs_hidden": false
        },
        "nteract": {
          "transient": {
            "deleting": false
          }
        },
        "gather": {
          "logged": 1733076329224
        }
      }
    },
    {
      "cell_type": "code",
      "source": [
        "print(X_train.shape)\n",
        "print(y_train.shape)\n",
        "print(X_test.shape)\n",
        "print(y_test.shape)"
      ],
      "outputs": [
        {
          "output_type": "stream",
          "name": "stdout",
          "text": "(700, 9)\n(700,)\n(300, 9)\n(300,)\n"
        }
      ],
      "execution_count": 7,
      "metadata": {
        "jupyter": {
          "source_hidden": false,
          "outputs_hidden": false
        },
        "nteract": {
          "transient": {
            "deleting": false
          }
        },
        "gather": {
          "logged": 1733076329460
        }
      }
    },
    {
      "cell_type": "markdown",
      "source": [
        "## Function: Model Fit & Eval"
      ],
      "metadata": {
        "nteract": {
          "transient": {
            "deleting": false
          }
        }
      }
    },
    {
      "cell_type": "code",
      "source": [
        "def evaluate_model(model, X_train, y_train, X_test, y_test):\n",
        "    # fit & predict\n",
        "    model.fit(X_train, y_train)\n",
        "    y_pred = model.predict(X_test)\n",
        "\n",
        "    # accuracy, conf. metric, class. report\n",
        "    accuracy = accuracy_score(y_test, y_pred)\n",
        "    cm = confusion_matrix(y_test, y_pred)\n",
        "    report = classification_report(y_test, y_pred)\n",
        "    \n",
        "    # AUC\n",
        "    y_prob = model.predict_proba(X_test)[:, 1] if hasattr(model, 'predict_proba') else model.decision_function(X_test)\n",
        "    auc = roc_auc_score(y_test, y_prob)\n",
        "    \n",
        "    # print result\n",
        "    print(f\"Accuracy: {accuracy:.4f}\")\n",
        "    print(\"Classification Report:\")\n",
        "    print(report)\n",
        "    print(f\"AUC: {auc:.4f}\")\n",
        "    \n",
        "    # conf. metric\n",
        "    disp = ConfusionMatrixDisplay(confusion_matrix=cm, display_labels=model.classes_)\n",
        "    disp.plot(cmap=plt.cm.Blues)\n",
        "    plt.title(f\"Confusion Matrix for {model.__class__.__name__}\")\n",
        "    plt.show()"
      ],
      "outputs": [],
      "execution_count": 8,
      "metadata": {
        "jupyter": {
          "source_hidden": false,
          "outputs_hidden": false
        },
        "nteract": {
          "transient": {
            "deleting": false
          }
        },
        "gather": {
          "logged": 1733076329592
        }
      }
    },
    {
      "cell_type": "markdown",
      "source": [
        "## Random Forest"
      ],
      "metadata": {
        "nteract": {
          "transient": {
            "deleting": false
          }
        }
      }
    },
    {
      "cell_type": "code",
      "source": [
        "model = RandomForestClassifier()\n",
        "param_grid = {\n",
        "    'n_estimators': [100, 200],\n",
        "    'max_depth': [None, 10], \n",
        "    'min_samples_split': [2, 10], \n",
        "    'min_samples_leaf': [1, 4],\n",
        "    'max_features': ['log2', 'sqrt'],\n",
        "    'bootstrap': [True],   \n",
        "    'criterion': ['gini']  \n",
        "}\n",
        "grid_search = GridSearchCV(estimator=model, param_grid=param_grid, scoring='accuracy', n_jobs=-1)\n",
        "grid_search.fit(X_train, y_train)\n",
        "\n",
        "print(f\"Best parameters: {grid_search.best_params_}\")\n",
        "print(f\"Best score: {grid_search.best_score_}\")"
      ],
      "outputs": [
        {
          "output_type": "stream",
          "name": "stdout",
          "text": "Best parameters: {'bootstrap': True, 'criterion': 'gini', 'max_depth': None, 'max_features': 'sqrt', 'min_samples_leaf': 1, 'min_samples_split': 2, 'n_estimators': 100}\nBest score: 0.8071428571428573\n"
        }
      ],
      "execution_count": 11,
      "metadata": {
        "jupyter": {
          "source_hidden": false,
          "outputs_hidden": false
        },
        "nteract": {
          "transient": {
            "deleting": false
          }
        },
        "gather": {
          "logged": 1733076345713
        }
      }
    },
    {
      "cell_type": "code",
      "source": [
        "model = RandomForestClassifier(bootstrap=True, criterion='gini', max_depth=10, max_features='sqrt', min_samples_leaf=4, min_samples_split=2, n_estimators=200)\n",
        "evaluate_model(model, X_train, y_train, X_test, y_test)"
      ],
      "outputs": [
        {
          "output_type": "stream",
          "name": "stdout",
          "text": "Accuracy: 0.8233\nClassification Report:\n              precision    recall  f1-score   support\n\n           0       0.83      0.81      0.82       150\n           1       0.81      0.84      0.83       150\n\n    accuracy                           0.82       300\n   macro avg       0.82      0.82      0.82       300\nweighted avg       0.82      0.82      0.82       300\n\nAUC: 0.8961\n"
        },
        {
          "output_type": "display_data",
          "data": {
            "text/plain": "<Figure size 640x480 with 2 Axes>",
            "image/png": "[encoded data removed]"
          },
          "metadata": {}
        }
      ],
      "execution_count": 12,
      "metadata": {
        "jupyter": {
          "source_hidden": false,
          "outputs_hidden": false
        },
        "nteract": {
          "transient": {
            "deleting": false
          }
        },
        "gather": {
          "logged": 1733076346826
        }
      }
    },
    {
      "cell_type": "markdown",
      "source": [
        "## Gradient Boost"
      ],
      "metadata": {
        "nteract": {
          "transient": {
            "deleting": false
          }
        }
      }
    },
    {
      "cell_type": "code",
      "source": [
        "model = GradientBoostingClassifier()\n",
        "param_grid = {\n",
        "    'n_estimators': [100, 200], \n",
        "    'learning_rate': [0.1],  \n",
        "    'max_depth': [3, 5],   \n",
        "    'min_samples_split': [2], \n",
        "    'min_samples_leaf': [1, 2],  \n",
        "    'subsample': [1.0],  \n",
        "    'max_features': ['sqrt'] \n",
        "}\n",
        "grid_search = GridSearchCV(estimator=model, param_grid=param_grid, scoring='accuracy', n_jobs=-1)\n",
        "grid_search.fit(X_train, y_train)\n",
        "\n",
        "print(f\"Best parameters: {grid_search.best_params_}\")\n",
        "print(f\"Best score: {grid_search.best_score_}\")"
      ],
      "outputs": [
        {
          "output_type": "stream",
          "name": "stdout",
          "text": "Best parameters: {'learning_rate': 0.1, 'max_depth': 3, 'max_features': 'sqrt', 'min_samples_leaf': 2, 'min_samples_split': 2, 'n_estimators': 100, 'subsample': 1.0}\nBest score: 0.7914285714285714\n"
        }
      ],
      "execution_count": 13,
      "metadata": {
        "jupyter": {
          "source_hidden": false,
          "outputs_hidden": false
        },
        "nteract": {
          "transient": {
            "deleting": false
          }
        },
        "gather": {
          "logged": 1733076350810
        }
      }
    },
    {
      "cell_type": "code",
      "source": [
        "model = GradientBoostingClassifier(learning_rate=0.1, max_depth=3, max_features='sqrt', min_samples_leaf=2, min_samples_split=2, n_estimators=100, subsample=1.0)\n",
        "evaluate_model(model, X_train, y_train, X_test, y_test)"
      ],
      "outputs": [
        {
          "output_type": "stream",
          "name": "stdout",
          "text": "Accuracy: 0.8167\nClassification Report:\n              precision    recall  f1-score   support\n\n           0       0.82      0.81      0.81       150\n           1       0.81      0.83      0.82       150\n\n    accuracy                           0.82       300\n   macro avg       0.82      0.82      0.82       300\nweighted avg       0.82      0.82      0.82       300\n\nAUC: 0.8941\n"
        },
        {
          "output_type": "display_data",
          "data": {
            "text/plain": "<Figure size 640x480 with 2 Axes>",
            "image/png": "[encoded data removed]"
          },
          "metadata": {}
        }
      ],
      "execution_count": 15,
      "metadata": {
        "jupyter": {
          "source_hidden": false,
          "outputs_hidden": false
        },
        "nteract": {
          "transient": {
            "deleting": false
          }
        },
        "gather": {
          "logged": 1733076412837
        }
      }
    },
    {
      "cell_type": "markdown",
      "source": [
        "## XG Boost"
      ],
      "metadata": {
        "nteract": {
          "transient": {
            "deleting": false
          }
        }
      }
    },
    {
      "cell_type": "code",
      "source": [
        "model = XGBClassifier()\n",
        "param_grid = {\n",
        "    'n_estimators': [10, 100],  \n",
        "    'learning_rate': [0.1, 0.2],  \n",
        "    'max_depth': [5, 7]\n",
        "}\n",
        "grid_search = GridSearchCV(estimator=model, param_grid=param_grid, scoring='accuracy', n_jobs=-1)\n",
        "grid_search.fit(X_train, y_train)\n",
        "\n",
        "print(f\"Best parameters: {grid_search.best_params_}\")\n",
        "print(f\"Best score: {grid_search.best_score_}\")"
      ],
      "outputs": [
        {
          "output_type": "stream",
          "name": "stdout",
          "text": "Best parameters: {'learning_rate': 0.2, 'max_depth': 5, 'n_estimators': 10}\nBest score: 0.7714285714285714\n"
        }
      ],
      "execution_count": 29,
      "metadata": {
        "jupyter": {
          "source_hidden": false,
          "outputs_hidden": false
        },
        "nteract": {
          "transient": {
            "deleting": false
          }
        },
        "gather": {
          "logged": 1733076871566
        }
      }
    },
    {
      "cell_type": "code",
      "source": [
        "model = XGBClassifier(n_estimators=100, learning_rate=0.2, max_depth=5)\n",
        "evaluate_model(model, X_train, y_train, X_test, y_test)"
      ],
      "outputs": [
        {
          "output_type": "stream",
          "name": "stdout",
          "text": "Accuracy: 0.8300\nClassification Report:\n              precision    recall  f1-score   support\n\n           0       0.84      0.82      0.83       150\n           1       0.82      0.84      0.83       150\n\n    accuracy                           0.83       300\n   macro avg       0.83      0.83      0.83       300\nweighted avg       0.83      0.83      0.83       300\n\nAUC: 0.8996\n"
        },
        {
          "output_type": "display_data",
          "data": {
            "text/plain": "<Figure size 640x480 with 2 Axes>",
            "image/png": "[encoded data removed]"
          },
          "metadata": {}
        }
      ],
      "execution_count": 35,
      "metadata": {
        "jupyter": {
          "source_hidden": false,
          "outputs_hidden": false
        },
        "nteract": {
          "transient": {
            "deleting": false
          }
        },
        "gather": {
          "logged": 1733076902815
        }
      }
    },
    {
      "cell_type": "code",
      "source": [],
      "outputs": [
        {
          "output_type": "stream",
          "name": "stdout",
          "text": "Processing /home/conda/feedstock_root/build_artifacts/anyio_1726931217849/work (from -r requirements.txt (line 14))\r\n\u001b[31mERROR: Could not install packages due to an OSError: [Errno 2] No such file or directory: '/home/conda/feedstock_root/build_artifacts/anyio_1726931217849/work'\r\n\u001b[0m\u001b[31m\r\n\u001b[0mNote: you may need to restart the kernel to use updated packages.\n"
        }
      ],
      "execution_count": 37,
      "metadata": {
        "jupyter": {
          "source_hidden": false,
          "outputs_hidden": false
        },
        "nteract": {
          "transient": {
            "deleting": false
          }
        }
      }
    }
  ],
  "metadata": {
    "kernelspec": {
      "name": "python310-sdkv2",
      "language": "python",
      "display_name": "Python 3.10 - SDK v2"
    },
    "language_info": {
      "name": "python",
      "version": "3.10.14",
      "mimetype": "text/x-python",
      "codemirror_mode": {
        "name": "ipython",
        "version": 3
      },
      "pygments_lexer": "ipython3",
      "nbconvert_exporter": "python",
      "file_extension": ".py"
    },
    "microsoft": {
      "ms_spell_check": {
        "ms_spell_check_language": "en"
      },
      "host": {
        "AzureML": {
          "notebookHasBeenCompleted": true
        }
      }
    },
    "kernel_info": {
      "name": "python310-sdkv2"
    },
    "nteract": {
      "version": "nteract-front-end@1.0.0"
    }
  },
  "nbformat": 4,
  "nbformat_minor": 2
}